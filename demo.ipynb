{
 "cells": [
  {
   "cell_type": "code",
   "execution_count": 418,
   "metadata": {},
   "outputs": [],
   "source": [
    "import openpyxl\n",
    "import pandas as pd\n",
    "import math\n",
    "\n",
    "ex=\"含钢量test.xlsx\"\n",
    "\n",
    "data=pd.read_excel(ex,sheet_name=\"钢筋工程量\",header=None)  "
   ]
  },
  {
   "cell_type": "markdown",
   "metadata": {},
   "source": [
    "1.header指定为None，加上列索引,如果header=0,则默认第一行为列的索引，同理index_col=0，则表示将第一列设置为行索引，通过标签loc来获取数据"
   ]
  },
  {
   "cell_type": "code",
   "execution_count": 419,
   "metadata": {},
   "outputs": [],
   "source": [
    "data.loc[0,:]=data.loc[0,:].fillna(method='ffill')\n"
   ]
  },
  {
   "cell_type": "code",
   "execution_count": 420,
   "metadata": {},
   "outputs": [],
   "source": [
    "data.loc[:,[0,1]]=data.loc[:,[0,1]].fillna(method='ffill')\n"
   ]
  },
  {
   "cell_type": "code",
   "execution_count": 421,
   "metadata": {},
   "outputs": [],
   "source": [
    "data=data.fillna(value=0)\n"
   ]
  },
  {
   "cell_type": "markdown",
   "metadata": {},
   "source": [
    "\n",
    "以上为清理数据步骤"
   ]
  },
  {
   "cell_type": "markdown",
   "metadata": {},
   "source": [
    "2.将层号这一列含有“合计”的指定行筛选出来，“~反选处不含“合计”的行即为所需行数据"
   ]
  },
  {
   "cell_type": "code",
   "execution_count": 422,
   "metadata": {},
   "outputs": [],
   "source": [
    "data=data[~data.loc[:,1].str.contains('合计')]  \n"
   ]
  },
  {
   "cell_type": "markdown",
   "metadata": {},
   "source": [
    "3.统计梁的含钢量"
   ]
  },
  {
   "cell_type": "code",
   "execution_count": 423,
   "metadata": {},
   "outputs": [],
   "source": [
    "df1=data[data.loc[:,0].str.contains('梁')].copy()\n",
    "df1.loc[:,2:]=df1.loc[:,2:].astype(float)\n",
    "df1.loc[8]=df1.loc[:,2:].sum(axis=0)\n",
    "df1[16]=(df1[15]/df1[2]).astype(float).round(2)\n",
    "df1=df1.fillna(\"合计\")\n",
    "\n"
   ]
  },
  {
   "cell_type": "markdown",
   "metadata": {},
   "source": [
    "3.统计柱的含钢量"
   ]
  },
  {
   "cell_type": "code",
   "execution_count": 424,
   "metadata": {},
   "outputs": [],
   "source": [
    "df2=data[data.loc[:,0].str.contains('柱')].copy()\n",
    "df2.loc[:,2:]=df2.loc[:,2:].astype(float)\n",
    "df2.loc[8]=df2.loc[:,2:].sum(axis=0)\n",
    "df2[16]=(df2[15]/df2[2]).astype(float).round(2)\n",
    "df2=df2.fillna(\"合计\")\n"
   ]
  },
  {
   "cell_type": "markdown",
   "metadata": {},
   "source": [
    "3.统计板的含钢量"
   ]
  },
  {
   "cell_type": "code",
   "execution_count": 425,
   "metadata": {},
   "outputs": [],
   "source": [
    "df3=data[data.loc[:,0].str.contains('板')].copy()\n",
    "df3.loc[:,2:]=df3.loc[:,2:].astype(float)\n",
    "df3.loc[8]=df3.loc[:,2:].sum(axis=0)\n",
    "df3[16]=(df3[15]/df3[2]).astype(float).round(2)\n",
    "df3=df3.fillna(\"合计\")\n"
   ]
  },
  {
   "cell_type": "markdown",
   "metadata": {},
   "source": [
    "3.统计墙的含钢量"
   ]
  },
  {
   "cell_type": "code",
   "execution_count": 426,
   "metadata": {},
   "outputs": [],
   "source": [
    "df4=data[data.loc[:,0].str.contains('墙')].copy()\n",
    "df4.loc[:,2:]=df4.loc[:,2:].astype(float)\n",
    "df4.loc[8]=df4.loc[:,2:].sum(axis=0)\n",
    "df4[16]=(df4[15]/df4[2]).astype(float).round(2)\n",
    "df4=df4.fillna(\"合计\")\n"
   ]
  },
  {
   "cell_type": "markdown",
   "metadata": {},
   "source": [
    "数据拼接"
   ]
  },
  {
   "cell_type": "code",
   "execution_count": 427,
   "metadata": {},
   "outputs": [],
   "source": [
    "df5=data[data.loc[:,0].str.contains('类别')]\n",
    "frames=[df5,df1,df2,df3,df4]\n",
    "data2=pd.concat(frames,ignore_index=True)\n"
   ]
  },
  {
   "cell_type": "code",
   "execution_count": 428,
   "metadata": {},
   "outputs": [],
   "source": [
    "\n",
    "data2.loc['n']=data2[data2.loc[:,0].str.contains('合计')].loc[:,2:].astype(float).sum(axis=0)\n",
    "data2=data2.fillna(\"合计\")\n",
    "data2.to_excel('目标表格1.xlsx','sheet1',index=0,header=0)\n"
   ]
  }
 ],
 "metadata": {
  "interpreter": {
   "hash": "72790e46eaf920759b3fb1f5458fcb18cf768fe99c719082ce30f43fc204ee16"
  },
  "kernelspec": {
   "display_name": "Python 3.7.9 64-bit",
   "language": "python",
   "name": "python3"
  },
  "language_info": {
   "codemirror_mode": {
    "name": "ipython",
    "version": 3
   },
   "file_extension": ".py",
   "mimetype": "text/x-python",
   "name": "python",
   "nbconvert_exporter": "python",
   "pygments_lexer": "ipython3",
   "version": "3.7.9"
  },
  "orig_nbformat": 4
 },
 "nbformat": 4,
 "nbformat_minor": 2
}
